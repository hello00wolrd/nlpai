{
 "cells": [
  {
   "cell_type": "code",
   "execution_count": 11,
   "id": "initial_id",
   "metadata": {
    "collapsed": true,
    "ExecuteTime": {
     "end_time": "2024-03-07T03:08:48.983802Z",
     "start_time": "2024-03-07T03:08:48.969785200Z"
    }
   },
   "outputs": [],
   "source": [
    "#先生成数据集\n",
    "import numpy as np\n",
    "import torch\n",
    "from torch.utils import data\n",
    "from d2l import torch as d2l\n",
    "\n",
    "true_w = torch.tensor([2, -3.4])\n",
    "true_b = 4.2\n",
    "features, labels = d2l.synthetic_data(true_w, true_b, 1000)"
   ]
  },
  {
   "cell_type": "code",
   "outputs": [],
   "source": [
    "def load_array(data_arrays, batch_size, is_train=True):  #@save\n",
    "    \"\"\"构造一个PyTorch数据迭代器\"\"\"\n",
    "    dataset = data.TensorDataset(*data_arrays)\n",
    "    return data.DataLoader(dataset, batch_size, shuffle=is_train)\n",
    "\n",
    "\n",
    "batch_size = 10\n",
    "data_iter = load_array((features, labels), batch_size)"
   ],
   "metadata": {
    "collapsed": false,
    "ExecuteTime": {
     "end_time": "2024-03-07T03:11:57.182055Z",
     "start_time": "2024-03-07T03:11:57.154089500Z"
    }
   },
   "id": "b83e6333a07ee078",
   "execution_count": 12
  },
  {
   "cell_type": "code",
   "outputs": [
    {
     "data": {
      "text/plain": "[tensor([[-1.2922,  0.1154],\n         [-0.3684,  0.2246],\n         [ 0.6228, -0.1039],\n         [ 1.0155, -1.0215],\n         [-0.5798,  0.0829],\n         [ 1.7695, -0.9500],\n         [-0.4083,  1.3574],\n         [ 1.0333,  1.1251],\n         [-1.2264, -0.0477],\n         [-0.2075, -0.3313]]),\n tensor([[ 1.2347],\n         [ 2.7041],\n         [ 5.7950],\n         [ 9.6952],\n         [ 2.7536],\n         [10.9754],\n         [-1.2232],\n         [ 2.4301],\n         [ 1.9037],\n         [ 4.9129]])]"
     },
     "execution_count": 13,
     "metadata": {},
     "output_type": "execute_result"
    }
   ],
   "source": [
    "next(iter(data_iter))"
   ],
   "metadata": {
    "collapsed": false,
    "ExecuteTime": {
     "end_time": "2024-03-07T03:12:00.581284300Z",
     "start_time": "2024-03-07T03:12:00.529291300Z"
    }
   },
   "id": "7348cd5ceff515c8",
   "execution_count": 13
  },
  {
   "cell_type": "code",
   "outputs": [],
   "source": [
    "from torch import nn\n",
    "\n",
    "net = nn.Sequential(nn.Linear(2, 1))"
   ],
   "metadata": {
    "collapsed": false,
    "ExecuteTime": {
     "end_time": "2024-03-07T03:22:10.932779900Z",
     "start_time": "2024-03-07T03:22:10.903777800Z"
    }
   },
   "id": "4dc7485c94a8b5c4",
   "execution_count": 14
  },
  {
   "cell_type": "code",
   "outputs": [
    {
     "data": {
      "text/plain": "tensor([0.])"
     },
     "execution_count": 15,
     "metadata": {},
     "output_type": "execute_result"
    }
   ],
   "source": [
    "net[0].weight.data.normal_(0, 0.01)\n",
    "net[0].bias.data.fill_(0)"
   ],
   "metadata": {
    "collapsed": false,
    "ExecuteTime": {
     "end_time": "2024-03-07T03:24:35.571451700Z",
     "start_time": "2024-03-07T03:24:35.558465300Z"
    }
   },
   "id": "40b84ed86cb0fba1",
   "execution_count": 15
  },
  {
   "cell_type": "code",
   "outputs": [],
   "source": [
    "loss = nn.MSELoss()"
   ],
   "metadata": {
    "collapsed": false,
    "ExecuteTime": {
     "end_time": "2024-03-07T03:25:10.576000600Z",
     "start_time": "2024-03-07T03:25:10.558993600Z"
    }
   },
   "id": "95eec717d8affc5e",
   "execution_count": 16
  },
  {
   "cell_type": "code",
   "outputs": [],
   "source": [
    "trainer = torch.optim.SGD(net.parameters(), lr=0.03)"
   ],
   "metadata": {
    "collapsed": false,
    "ExecuteTime": {
     "end_time": "2024-03-07T03:35:21.806002100Z",
     "start_time": "2024-03-07T03:35:21.789011Z"
    }
   },
   "id": "9a7488f5173f5877",
   "execution_count": 17
  },
  {
   "cell_type": "code",
   "outputs": [
    {
     "name": "stdout",
     "output_type": "stream",
     "text": [
      "loss1 0.000252\n",
      "loss1 0.000050\n",
      "loss1 0.000043\n",
      "loss1 0.000065\n",
      "loss1 0.000055\n",
      "loss1 0.000113\n",
      "loss1 0.000134\n",
      "loss1 0.000147\n",
      "loss1 0.000105\n",
      "loss1 0.000053\n",
      "loss1 0.000112\n",
      "loss1 0.000076\n",
      "loss1 0.000061\n",
      "loss1 0.000064\n",
      "loss1 0.000122\n",
      "loss1 0.000125\n",
      "loss1 0.000167\n",
      "loss1 0.000163\n",
      "loss1 0.000110\n",
      "loss1 0.000047\n",
      "loss1 0.000099\n",
      "loss1 0.000104\n",
      "loss1 0.000062\n",
      "loss1 0.000044\n",
      "loss1 0.000084\n",
      "loss1 0.000138\n",
      "loss1 0.000075\n",
      "loss1 0.000099\n",
      "loss1 0.000179\n",
      "loss1 0.000063\n",
      "loss1 0.000061\n",
      "loss1 0.000057\n",
      "loss1 0.000061\n",
      "loss1 0.000054\n",
      "loss1 0.000045\n",
      "loss1 0.000122\n",
      "loss1 0.000144\n",
      "loss1 0.000055\n",
      "loss1 0.000239\n",
      "loss1 0.000107\n",
      "loss1 0.000144\n",
      "loss1 0.000070\n",
      "loss1 0.000067\n",
      "loss1 0.000105\n",
      "loss1 0.000083\n",
      "loss1 0.000133\n",
      "loss1 0.000100\n",
      "loss1 0.000039\n",
      "loss1 0.000102\n",
      "loss1 0.000061\n",
      "loss1 0.000161\n",
      "loss1 0.000092\n",
      "loss1 0.000136\n",
      "loss1 0.000040\n",
      "loss1 0.000117\n",
      "loss1 0.000128\n",
      "loss1 0.000043\n",
      "loss1 0.000110\n",
      "loss1 0.000107\n",
      "loss1 0.000098\n",
      "loss1 0.000148\n",
      "loss1 0.000127\n",
      "loss1 0.000126\n",
      "loss1 0.000114\n",
      "loss1 0.000115\n",
      "loss1 0.000056\n",
      "loss1 0.000110\n",
      "loss1 0.000077\n",
      "loss1 0.000105\n",
      "loss1 0.000081\n",
      "loss1 0.000042\n",
      "loss1 0.000098\n",
      "loss1 0.000116\n",
      "loss1 0.000102\n",
      "loss1 0.000134\n",
      "loss1 0.000138\n",
      "loss1 0.000167\n",
      "loss1 0.000221\n",
      "loss1 0.000065\n",
      "loss1 0.000106\n",
      "loss1 0.000093\n",
      "loss1 0.000055\n",
      "loss1 0.000167\n",
      "loss1 0.000109\n",
      "loss1 0.000102\n",
      "loss1 0.000113\n",
      "loss1 0.000062\n",
      "loss1 0.000217\n",
      "loss1 0.000135\n",
      "loss1 0.000124\n",
      "loss1 0.000147\n",
      "loss1 0.000053\n",
      "loss1 0.000157\n",
      "loss1 0.000112\n",
      "loss1 0.000183\n",
      "loss1 0.000135\n",
      "loss1 0.000114\n",
      "loss1 0.000071\n",
      "loss1 0.000077\n",
      "loss1 0.000130\n",
      "epoch 1, loss 0.000104\n",
      "loss1 0.000088\n",
      "loss1 0.000083\n",
      "loss1 0.000121\n",
      "loss1 0.000181\n",
      "loss1 0.000084\n",
      "loss1 0.000147\n",
      "loss1 0.000075\n",
      "loss1 0.000104\n",
      "loss1 0.000031\n",
      "loss1 0.000135\n",
      "loss1 0.000118\n",
      "loss1 0.000107\n",
      "loss1 0.000095\n",
      "loss1 0.000053\n",
      "loss1 0.000111\n",
      "loss1 0.000030\n",
      "loss1 0.000125\n",
      "loss1 0.000058\n",
      "loss1 0.000079\n",
      "loss1 0.000055\n",
      "loss1 0.000042\n",
      "loss1 0.000077\n",
      "loss1 0.000190\n",
      "loss1 0.000213\n",
      "loss1 0.000065\n",
      "loss1 0.000086\n",
      "loss1 0.000166\n",
      "loss1 0.000108\n",
      "loss1 0.000039\n",
      "loss1 0.000066\n",
      "loss1 0.000050\n",
      "loss1 0.000035\n",
      "loss1 0.000097\n",
      "loss1 0.000069\n",
      "loss1 0.000082\n",
      "loss1 0.000111\n",
      "loss1 0.000108\n",
      "loss1 0.000073\n",
      "loss1 0.000153\n",
      "loss1 0.000093\n",
      "loss1 0.000081\n",
      "loss1 0.000134\n",
      "loss1 0.000078\n",
      "loss1 0.000204\n",
      "loss1 0.000054\n",
      "loss1 0.000090\n",
      "loss1 0.000092\n",
      "loss1 0.000070\n",
      "loss1 0.000096\n",
      "loss1 0.000157\n",
      "loss1 0.000111\n",
      "loss1 0.000109\n",
      "loss1 0.000050\n",
      "loss1 0.000104\n",
      "loss1 0.000093\n",
      "loss1 0.000132\n",
      "loss1 0.000034\n",
      "loss1 0.000041\n",
      "loss1 0.000070\n",
      "loss1 0.000112\n",
      "loss1 0.000099\n",
      "loss1 0.000176\n",
      "loss1 0.000131\n",
      "loss1 0.000108\n",
      "loss1 0.000141\n",
      "loss1 0.000062\n",
      "loss1 0.000193\n",
      "loss1 0.000095\n",
      "loss1 0.000167\n",
      "loss1 0.000101\n",
      "loss1 0.000134\n",
      "loss1 0.000068\n",
      "loss1 0.000094\n",
      "loss1 0.000116\n",
      "loss1 0.000175\n",
      "loss1 0.000115\n",
      "loss1 0.000104\n",
      "loss1 0.000073\n",
      "loss1 0.000313\n",
      "loss1 0.000061\n",
      "loss1 0.000103\n",
      "loss1 0.000103\n",
      "loss1 0.000146\n",
      "loss1 0.000164\n",
      "loss1 0.000078\n",
      "loss1 0.000169\n",
      "loss1 0.000087\n",
      "loss1 0.000190\n",
      "loss1 0.000068\n",
      "loss1 0.000194\n",
      "loss1 0.000057\n",
      "loss1 0.000098\n",
      "loss1 0.000105\n",
      "loss1 0.000049\n",
      "loss1 0.000100\n",
      "loss1 0.000077\n",
      "loss1 0.000203\n",
      "loss1 0.000065\n",
      "loss1 0.000088\n",
      "loss1 0.000081\n",
      "epoch 2, loss 0.000106\n",
      "loss1 0.000057\n",
      "loss1 0.000069\n",
      "loss1 0.000133\n",
      "loss1 0.000074\n",
      "loss1 0.000156\n",
      "loss1 0.000053\n",
      "loss1 0.000172\n",
      "loss1 0.000112\n",
      "loss1 0.000140\n",
      "loss1 0.000070\n",
      "loss1 0.000159\n",
      "loss1 0.000155\n",
      "loss1 0.000104\n",
      "loss1 0.000093\n",
      "loss1 0.000111\n",
      "loss1 0.000114\n",
      "loss1 0.000194\n",
      "loss1 0.000102\n",
      "loss1 0.000143\n",
      "loss1 0.000131\n",
      "loss1 0.000039\n",
      "loss1 0.000111\n",
      "loss1 0.000101\n",
      "loss1 0.000058\n",
      "loss1 0.000162\n",
      "loss1 0.000148\n",
      "loss1 0.000146\n",
      "loss1 0.000116\n",
      "loss1 0.000051\n",
      "loss1 0.000036\n",
      "loss1 0.000123\n",
      "loss1 0.000135\n",
      "loss1 0.000122\n",
      "loss1 0.000042\n",
      "loss1 0.000245\n",
      "loss1 0.000099\n",
      "loss1 0.000115\n",
      "loss1 0.000052\n",
      "loss1 0.000142\n",
      "loss1 0.000044\n",
      "loss1 0.000184\n",
      "loss1 0.000118\n",
      "loss1 0.000087\n",
      "loss1 0.000061\n",
      "loss1 0.000071\n",
      "loss1 0.000033\n",
      "loss1 0.000090\n",
      "loss1 0.000055\n",
      "loss1 0.000189\n",
      "loss1 0.000065\n",
      "loss1 0.000081\n",
      "loss1 0.000168\n",
      "loss1 0.000017\n",
      "loss1 0.000102\n",
      "loss1 0.000020\n",
      "loss1 0.000166\n",
      "loss1 0.000100\n",
      "loss1 0.000054\n",
      "loss1 0.000118\n",
      "loss1 0.000060\n",
      "loss1 0.000050\n",
      "loss1 0.000038\n",
      "loss1 0.000104\n",
      "loss1 0.000029\n",
      "loss1 0.000144\n",
      "loss1 0.000088\n",
      "loss1 0.000121\n",
      "loss1 0.000123\n",
      "loss1 0.000074\n",
      "loss1 0.000143\n",
      "loss1 0.000060\n",
      "loss1 0.000172\n",
      "loss1 0.000051\n",
      "loss1 0.000198\n",
      "loss1 0.000123\n",
      "loss1 0.000050\n",
      "loss1 0.000068\n",
      "loss1 0.000128\n",
      "loss1 0.000061\n",
      "loss1 0.000179\n",
      "loss1 0.000068\n",
      "loss1 0.000146\n",
      "loss1 0.000043\n",
      "loss1 0.000069\n",
      "loss1 0.000086\n",
      "loss1 0.000117\n",
      "loss1 0.000114\n",
      "loss1 0.000080\n",
      "loss1 0.000062\n",
      "loss1 0.000148\n",
      "loss1 0.000092\n",
      "loss1 0.000119\n",
      "loss1 0.000091\n",
      "loss1 0.000139\n",
      "loss1 0.000097\n",
      "loss1 0.000121\n",
      "loss1 0.000163\n",
      "loss1 0.000073\n",
      "loss1 0.000301\n",
      "loss1 0.000100\n",
      "epoch 3, loss 0.000104\n"
     ]
    }
   ],
   "source": [
    "num_epochs = 3\n",
    "for epoch in range(num_epochs):\n",
    "    for X, y in data_iter:\n",
    "        l = loss(net(X), y)\n",
    "        trainer.zero_grad()\n",
    "        l.backward()\n",
    "        trainer.step()\n",
    "    l = loss(net(features), labels)\n",
    "    print(f'epoch {epoch + 1}, loss {l:f}')  #打印最后调整参数后的模型损失"
   ],
   "metadata": {
    "collapsed": false,
    "ExecuteTime": {
     "end_time": "2024-03-07T03:43:21.985314900Z",
     "start_time": "2024-03-07T03:43:21.869801300Z"
    }
   },
   "id": "89e7c53afc73759c",
   "execution_count": 19
  },
  {
   "cell_type": "code",
   "outputs": [
    {
     "name": "stdout",
     "output_type": "stream",
     "text": [
      "w的估计误差： tensor([0.0005, 0.0002])\n",
      "b的估计误差： tensor([-0.0008])\n"
     ]
    }
   ],
   "source": [
    "w = net[0].weight.data\n",
    "print('w的估计误差：', true_w - w.reshape(true_w.shape))\n",
    "b = net[0].bias.data\n",
    "print('b的估计误差：', true_b - b)"
   ],
   "metadata": {
    "collapsed": false,
    "ExecuteTime": {
     "end_time": "2024-03-07T03:44:31.427074400Z",
     "start_time": "2024-03-07T03:44:31.410087600Z"
    }
   },
   "id": "823c95b845013276",
   "execution_count": 20
  }
 ],
 "metadata": {
  "kernelspec": {
   "display_name": "Python 3",
   "language": "python",
   "name": "python3"
  },
  "language_info": {
   "codemirror_mode": {
    "name": "ipython",
    "version": 2
   },
   "file_extension": ".py",
   "mimetype": "text/x-python",
   "name": "python",
   "nbconvert_exporter": "python",
   "pygments_lexer": "ipython2",
   "version": "2.7.6"
  }
 },
 "nbformat": 4,
 "nbformat_minor": 5
}
