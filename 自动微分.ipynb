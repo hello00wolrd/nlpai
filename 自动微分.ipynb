{
 "cells": [
  {
   "cell_type": "code",
   "outputs": [
    {
     "data": {
      "text/plain": "tensor([0., 1., 2., 3.], requires_grad=True)"
     },
     "execution_count": 9,
     "metadata": {},
     "output_type": "execute_result"
    }
   ],
   "source": [
    "import torch\n",
    "\n",
    "x = torch.arange(4.0, requires_grad=True)\n",
    "x"
   ],
   "metadata": {
    "collapsed": false,
    "ExecuteTime": {
     "end_time": "2024-02-20T02:37:42.265577300Z",
     "start_time": "2024-02-20T02:37:42.146576400Z"
    }
   },
   "id": "707b5acd4241f294",
   "execution_count": 9
  },
  {
   "cell_type": "code",
   "outputs": [
    {
     "data": {
      "text/plain": "tensor(28., grad_fn=<MulBackward0>)"
     },
     "execution_count": 10,
     "metadata": {},
     "output_type": "execute_result"
    }
   ],
   "source": [
    "y = 2 * torch.dot(x, x)\n",
    "y"
   ],
   "metadata": {
    "collapsed": false,
    "ExecuteTime": {
     "end_time": "2024-02-20T02:37:42.306575800Z",
     "start_time": "2024-02-20T02:37:42.239574500Z"
    }
   },
   "id": "b3454e559b4e5df9",
   "execution_count": 10
  },
  {
   "cell_type": "code",
   "outputs": [
    {
     "data": {
      "text/plain": "tensor([ 0.,  4.,  8., 12.])"
     },
     "execution_count": 11,
     "metadata": {},
     "output_type": "execute_result"
    }
   ],
   "source": [
    "y.backward()\n",
    "x.grad"
   ],
   "metadata": {
    "collapsed": false,
    "ExecuteTime": {
     "end_time": "2024-02-20T02:37:42.431594300Z",
     "start_time": "2024-02-20T02:37:42.309571700Z"
    }
   },
   "id": "6e4570e49f49b564",
   "execution_count": 11
  },
  {
   "cell_type": "code",
   "outputs": [
    {
     "data": {
      "text/plain": "tensor([True, True, True, True])"
     },
     "execution_count": 12,
     "metadata": {},
     "output_type": "execute_result"
    }
   ],
   "source": [
    "x.grad == 4 * x"
   ],
   "metadata": {
    "collapsed": false,
    "ExecuteTime": {
     "end_time": "2024-02-20T02:37:42.529234800Z",
     "start_time": "2024-02-20T02:37:42.431594300Z"
    }
   },
   "id": "1b14e387c4f16531",
   "execution_count": 12
  },
  {
   "cell_type": "code",
   "outputs": [
    {
     "name": "stdout",
     "output_type": "stream",
     "text": [
      "tensor(6., grad_fn=<SumBackward0>)\n"
     ]
    },
    {
     "data": {
      "text/plain": "tensor([1., 1., 1., 1.])"
     },
     "execution_count": 13,
     "metadata": {},
     "output_type": "execute_result"
    }
   ],
   "source": [
    "# 在默认情况下，PyTorch会累积梯度，我们需要清除之前的值\n",
    "x.grad.zero_()\n",
    "y = x.sum()\n",
    "y.backward()\n",
    "print(y)\n",
    "x.grad"
   ],
   "metadata": {
    "collapsed": false,
    "ExecuteTime": {
     "end_time": "2024-02-20T02:37:42.602232800Z",
     "start_time": "2024-02-20T02:37:42.513242800Z"
    }
   },
   "id": "8bc26382de8ca7c0",
   "execution_count": 13
  },
  {
   "cell_type": "code",
   "outputs": [
    {
     "data": {
      "text/plain": "tensor([0., 2., 4., 6.])"
     },
     "execution_count": 14,
     "metadata": {},
     "output_type": "execute_result"
    }
   ],
   "source": [
    "# 对非标量调用backward需要传入一个gradient参数，该参数指定微分函数关于self的梯度。\n",
    "# 本例只想求偏导数的和，所以传递一个1的梯度是合适的\n",
    "x.grad.zero_()\n",
    "y = x * x\n",
    "# 等价于y.backward(torch.ones(len(x)))\n",
    "y.sum().backward()\n",
    "x.grad"
   ],
   "metadata": {
    "collapsed": false,
    "ExecuteTime": {
     "end_time": "2024-02-20T02:37:42.606236800Z",
     "start_time": "2024-02-20T02:37:42.555234700Z"
    }
   },
   "id": "37dd9de44ba245d",
   "execution_count": 14
  },
  {
   "cell_type": "code",
   "outputs": [
    {
     "data": {
      "text/plain": "tensor([True, True, True, True])"
     },
     "execution_count": 15,
     "metadata": {},
     "output_type": "execute_result"
    }
   ],
   "source": [
    "#分离计算\n",
    "x.grad.zero_()\n",
    "y[:] = x * x\n",
    "u = y.detach()\n",
    "z = u * x\n",
    "\n",
    "z.sum().backward()\n",
    "x.grad == u"
   ],
   "metadata": {
    "collapsed": false,
    "ExecuteTime": {
     "end_time": "2024-02-20T02:37:42.694232500Z",
     "start_time": "2024-02-20T02:37:42.609231900Z"
    }
   },
   "id": "f837f06213f1e798",
   "execution_count": 15
  },
  {
   "cell_type": "code",
   "outputs": [],
   "source": [
    "def f(a):\n",
    "    b = a * 2\n",
    "    while b.norm() < 1000:\n",
    "        b = b * 2\n",
    "    if b.sum() > 0:\n",
    "        c = b\n",
    "    else:\n",
    "        c = 100 * b\n",
    "    return c"
   ],
   "metadata": {
    "collapsed": false,
    "ExecuteTime": {
     "end_time": "2024-02-20T02:37:42.714264900Z",
     "start_time": "2024-02-20T02:37:42.680229800Z"
    }
   },
   "id": "53e4fff598b080d8",
   "execution_count": 16
  },
  {
   "cell_type": "code",
   "outputs": [
    {
     "name": "stdout",
     "output_type": "stream",
     "text": [
      "tensor(-0.0126, requires_grad=True)\n"
     ]
    },
    {
     "data": {
      "text/plain": "tensor(True)"
     },
     "execution_count": 17,
     "metadata": {},
     "output_type": "execute_result"
    }
   ],
   "source": [
    "a = torch.randn(size=(), requires_grad=True)\n",
    "d = f(a)\n",
    "d.backward()\n",
    "print(a)\n",
    "a.grad == d / a\n",
    "#我们现在可以分析上面定义的f函数。 请注意，它在其输入a中是分段线性的。 换言之，对于任何a，存在某个常量标量k，使得f(a)=k*a，其中k的值取决于输入a，因此可以用d/a验证梯度是否正确。"
   ],
   "metadata": {
    "collapsed": false,
    "ExecuteTime": {
     "end_time": "2024-02-20T02:37:42.759234900Z",
     "start_time": "2024-02-20T02:37:42.702231400Z"
    }
   },
   "id": "5236c80a12f65ac5",
   "execution_count": 17
  },
  {
   "cell_type": "code",
   "outputs": [
    {
     "data": {
      "text/plain": "tensor([[ 0.6689,  0.1844, -0.9700,  0.4785, -0.6641],\n        [-0.3876, -1.4661, -0.1772,  0.2945,  1.5520],\n        [ 1.1923, -0.1319,  0.9340, -0.4854,  0.7540],\n        [-1.0227, -1.1913, -0.4732, -0.5825, -1.4239]])"
     },
     "execution_count": 18,
     "metadata": {},
     "output_type": "execute_result"
    }
   ],
   "source": [
    "mm = torch.randn(4, 5)\n",
    "mm"
   ],
   "metadata": {
    "collapsed": false,
    "ExecuteTime": {
     "end_time": "2024-02-20T02:37:42.803229800Z",
     "start_time": "2024-02-20T02:37:42.761231200Z"
    }
   },
   "id": "3714725faf28c50",
   "execution_count": 18
  },
  {
   "cell_type": "code",
   "outputs": [
    {
     "data": {
      "text/plain": "tensor([2., 2., 2., 2., 2.])"
     },
     "execution_count": 19,
     "metadata": {},
     "output_type": "execute_result"
    }
   ],
   "source": [
    "#当 a 的范数大于10时，梯度为所有元素为 1 的向量；当 a 的梯度不大于 10 时，梯度为所有元素为 2 的向量。\n",
    "def f(a):\n",
    "    if a.norm() > 10:\n",
    "        b = a\n",
    "    else:\n",
    "        b = 2 * a\n",
    "    return b.sum()\n",
    "\n",
    "\n",
    "a = torch.tensor([1.0, 2.0, 3.0, 4.0, 5.0], requires_grad=True)\n",
    "d = f(a)\n",
    "d.backward()\n",
    "a.grad"
   ],
   "metadata": {
    "collapsed": false,
    "ExecuteTime": {
     "end_time": "2024-02-20T02:37:42.914235Z",
     "start_time": "2024-02-20T02:37:42.787229600Z"
    }
   },
   "id": "6c58c66423e86460",
   "execution_count": 19
  },
  {
   "cell_type": "code",
   "outputs": [
    {
     "data": {
      "text/plain": "<Figure size 640x480 with 1 Axes>",
      "image/png": "[encoded data removed]"
     },
     "metadata": {},
     "output_type": "display_data"
    }
   ],
   "source": [
    "#使f(x) = sin(x)，绘制f(x)和 df(x)/dx 的图像，其中后者不使用f ′(x) = cos(x)。\n",
    "#导入相应的库\n",
    "import numpy as np\n",
    "import torch\n",
    "import matplotlib.pyplot as plt\n",
    "\n",
    "#做一些定义\n",
    "x = np.arange(-5, 5, 0.02)  #定义自变量在[5,5]之间，每个数间隔0.02\n",
    "f = np.sin(x)\n",
    "df = []\n",
    "\n",
    "for i in x:\n",
    "    #对x的每一个值都去求一下导数\n",
    "    v = torch.tensor(i, requires_grad=True)\n",
    "    y = torch.sin(v)\n",
    "    y.backward()\n",
    "    df.append(v.grad)\n",
    "#绘图部分\n",
    "# Create plots with pre-defined labels.\n",
    "fig, ax = plt.subplots()\n",
    "ax.plot(x, f, 'k', label='f(x)')\n",
    "ax.plot(x, df, 'k*', label='df(x)')\n",
    "\n",
    "legend = ax.legend(loc='upper left', shadow=True, fontsize='x-large')\n",
    "\n",
    "# Put a nicer background color on the legend.\n",
    "legend.get_frame().set_facecolor('C0')\n",
    "\n",
    "plt.show()\n"
   ],
   "metadata": {
    "collapsed": false,
    "ExecuteTime": {
     "end_time": "2024-02-20T02:37:44.047010400Z",
     "start_time": "2024-02-20T02:37:42.894246600Z"
    }
   },
   "id": "26672d1b2e23a6b2",
   "execution_count": 20
  }
 ],
 "metadata": {
  "kernelspec": {
   "display_name": "Python 3",
   "language": "python",
   "name": "python3"
  },
  "language_info": {
   "codemirror_mode": {
    "name": "ipython",
    "version": 2
   },
   "file_extension": ".py",
   "mimetype": "text/x-python",
   "name": "python",
   "nbconvert_exporter": "python",
   "pygments_lexer": "ipython2",
   "version": "2.7.6"
  }
 },
 "nbformat": 4,
 "nbformat_minor": 5
}
